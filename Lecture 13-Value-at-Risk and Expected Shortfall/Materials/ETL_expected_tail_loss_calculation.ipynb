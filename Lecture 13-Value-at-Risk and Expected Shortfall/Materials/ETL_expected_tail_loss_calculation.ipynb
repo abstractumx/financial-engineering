{
 "cells": [
  {
   "cell_type": "markdown",
   "metadata": {},
   "source": [
    "# Capita Allocation Manangent\n",
    "In real word, for economic capital estimation and its allocation is used ETL rather than VaR; especially for large banks or hedge-funds. In fact, they may also use at least some data from historical or hypothetical market crises.\n",
    "\n",
    "At the elemental level, economic capital does not need to correspond to real capital. It is a risk measure, such as VaR or ETL."
   ]
  }
 ],
 "metadata": {
  "language_info": {
   "name": "python"
  },
  "orig_nbformat": 4
 },
 "nbformat": 4,
 "nbformat_minor": 2
}
